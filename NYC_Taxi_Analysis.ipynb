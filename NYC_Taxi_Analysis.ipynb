{
 "cells": [
  {
   "cell_type": "code",
   "execution_count": 1,
   "metadata": {},
   "outputs": [],
   "source": [
    "import time\n",
    "import numbers\n",
    "import math\n",
    "\n",
    "from datetime import date, datetime\n",
    "from dateutil.parser import parse\n",
    "from tqdm import tqdm_notebook\n",
    "import pandas as pd\n",
    "import numpy as np\n",
    "import seaborn as sns\n",
    "import matplotlib.pyplot as plt\n",
    "%matplotlib inline\n",
    "import xgboost as xgb\n",
    "from xgboost import plot_importance\n",
    "\n",
    "from sklearn.linear_model import LinearRegression, Ridge, Lasso\n",
    "from sklearn.model_selection import train_test_split\n",
    "from sklearn.metrics import mean_squared_error\n",
    "from sklearn.model_selection import train_test_split\n",
    "\n",
    "import warnings\n",
    "warnings.filterwarnings(\"ignore\", category = RuntimeWarning)"
   ]
  },
  {
   "cell_type": "code",
   "execution_count": 2,
   "metadata": {
    "scrolled": true
   },
   "outputs": [],
   "source": [
    "train = pd.read_csv('train.csv', sep = ',')\n",
    "test = pd.read_csv('test.csv')\n",
    "sample_submission = pd.read_csv('sample_submission.csv')"
   ]
  },
  {
   "cell_type": "code",
   "execution_count": 3,
   "metadata": {},
   "outputs": [
    {
     "name": "stdout",
     "output_type": "stream",
     "text": [
      "<class 'pandas.core.frame.DataFrame'>\n",
      "RangeIndex: 1458644 entries, 0 to 1458643\n",
      "Data columns (total 11 columns):\n",
      "id                    1458644 non-null object\n",
      "vendor_id             1458644 non-null int64\n",
      "pickup_datetime       1458644 non-null object\n",
      "dropoff_datetime      1458644 non-null object\n",
      "passenger_count       1458644 non-null int64\n",
      "pickup_longitude      1458644 non-null float64\n",
      "pickup_latitude       1458644 non-null float64\n",
      "dropoff_longitude     1458644 non-null float64\n",
      "dropoff_latitude      1458644 non-null float64\n",
      "store_and_fwd_flag    1458644 non-null object\n",
      "trip_duration         1458644 non-null int64\n",
      "dtypes: float64(4), int64(3), object(4)\n",
      "memory usage: 122.4+ MB\n",
      "(1458644, 11)\n"
     ]
    }
   ],
   "source": [
    "train.info()\n",
    "print(train.shape)"
   ]
  },
  {
   "cell_type": "code",
   "execution_count": 4,
   "metadata": {},
   "outputs": [
    {
     "data": {
      "text/html": [
       "<div>\n",
       "<style scoped>\n",
       "    .dataframe tbody tr th:only-of-type {\n",
       "        vertical-align: middle;\n",
       "    }\n",
       "\n",
       "    .dataframe tbody tr th {\n",
       "        vertical-align: top;\n",
       "    }\n",
       "\n",
       "    .dataframe thead th {\n",
       "        text-align: right;\n",
       "    }\n",
       "</style>\n",
       "<table border=\"1\" class=\"dataframe\">\n",
       "  <thead>\n",
       "    <tr style=\"text-align: right;\">\n",
       "      <th></th>\n",
       "      <th>vendor_id</th>\n",
       "      <th>passenger_count</th>\n",
       "      <th>pickup_longitude</th>\n",
       "      <th>pickup_latitude</th>\n",
       "      <th>dropoff_longitude</th>\n",
       "      <th>dropoff_latitude</th>\n",
       "      <th>trip_duration</th>\n",
       "    </tr>\n",
       "  </thead>\n",
       "  <tbody>\n",
       "    <tr>\n",
       "      <th>count</th>\n",
       "      <td>1.458644e+06</td>\n",
       "      <td>1.458644e+06</td>\n",
       "      <td>1.458644e+06</td>\n",
       "      <td>1.458644e+06</td>\n",
       "      <td>1.458644e+06</td>\n",
       "      <td>1.458644e+06</td>\n",
       "      <td>1.458644e+06</td>\n",
       "    </tr>\n",
       "    <tr>\n",
       "      <th>mean</th>\n",
       "      <td>1.534950e+00</td>\n",
       "      <td>1.664530e+00</td>\n",
       "      <td>-7.397349e+01</td>\n",
       "      <td>4.075092e+01</td>\n",
       "      <td>-7.397342e+01</td>\n",
       "      <td>4.075180e+01</td>\n",
       "      <td>9.594923e+02</td>\n",
       "    </tr>\n",
       "    <tr>\n",
       "      <th>std</th>\n",
       "      <td>4.987772e-01</td>\n",
       "      <td>1.314242e+00</td>\n",
       "      <td>7.090186e-02</td>\n",
       "      <td>3.288119e-02</td>\n",
       "      <td>7.064327e-02</td>\n",
       "      <td>3.589056e-02</td>\n",
       "      <td>5.237432e+03</td>\n",
       "    </tr>\n",
       "    <tr>\n",
       "      <th>min</th>\n",
       "      <td>1.000000e+00</td>\n",
       "      <td>0.000000e+00</td>\n",
       "      <td>-1.219333e+02</td>\n",
       "      <td>3.435970e+01</td>\n",
       "      <td>-1.219333e+02</td>\n",
       "      <td>3.218114e+01</td>\n",
       "      <td>1.000000e+00</td>\n",
       "    </tr>\n",
       "    <tr>\n",
       "      <th>25%</th>\n",
       "      <td>1.000000e+00</td>\n",
       "      <td>1.000000e+00</td>\n",
       "      <td>-7.399187e+01</td>\n",
       "      <td>4.073735e+01</td>\n",
       "      <td>-7.399133e+01</td>\n",
       "      <td>4.073588e+01</td>\n",
       "      <td>3.970000e+02</td>\n",
       "    </tr>\n",
       "    <tr>\n",
       "      <th>50%</th>\n",
       "      <td>2.000000e+00</td>\n",
       "      <td>1.000000e+00</td>\n",
       "      <td>-7.398174e+01</td>\n",
       "      <td>4.075410e+01</td>\n",
       "      <td>-7.397975e+01</td>\n",
       "      <td>4.075452e+01</td>\n",
       "      <td>6.620000e+02</td>\n",
       "    </tr>\n",
       "    <tr>\n",
       "      <th>75%</th>\n",
       "      <td>2.000000e+00</td>\n",
       "      <td>2.000000e+00</td>\n",
       "      <td>-7.396733e+01</td>\n",
       "      <td>4.076836e+01</td>\n",
       "      <td>-7.396301e+01</td>\n",
       "      <td>4.076981e+01</td>\n",
       "      <td>1.075000e+03</td>\n",
       "    </tr>\n",
       "    <tr>\n",
       "      <th>max</th>\n",
       "      <td>2.000000e+00</td>\n",
       "      <td>9.000000e+00</td>\n",
       "      <td>-6.133553e+01</td>\n",
       "      <td>5.188108e+01</td>\n",
       "      <td>-6.133553e+01</td>\n",
       "      <td>4.392103e+01</td>\n",
       "      <td>3.526282e+06</td>\n",
       "    </tr>\n",
       "  </tbody>\n",
       "</table>\n",
       "</div>"
      ],
      "text/plain": [
       "          vendor_id  passenger_count  pickup_longitude  pickup_latitude  \\\n",
       "count  1.458644e+06     1.458644e+06      1.458644e+06     1.458644e+06   \n",
       "mean   1.534950e+00     1.664530e+00     -7.397349e+01     4.075092e+01   \n",
       "std    4.987772e-01     1.314242e+00      7.090186e-02     3.288119e-02   \n",
       "min    1.000000e+00     0.000000e+00     -1.219333e+02     3.435970e+01   \n",
       "25%    1.000000e+00     1.000000e+00     -7.399187e+01     4.073735e+01   \n",
       "50%    2.000000e+00     1.000000e+00     -7.398174e+01     4.075410e+01   \n",
       "75%    2.000000e+00     2.000000e+00     -7.396733e+01     4.076836e+01   \n",
       "max    2.000000e+00     9.000000e+00     -6.133553e+01     5.188108e+01   \n",
       "\n",
       "       dropoff_longitude  dropoff_latitude  trip_duration  \n",
       "count       1.458644e+06      1.458644e+06   1.458644e+06  \n",
       "mean       -7.397342e+01      4.075180e+01   9.594923e+02  \n",
       "std         7.064327e-02      3.589056e-02   5.237432e+03  \n",
       "min        -1.219333e+02      3.218114e+01   1.000000e+00  \n",
       "25%        -7.399133e+01      4.073588e+01   3.970000e+02  \n",
       "50%        -7.397975e+01      4.075452e+01   6.620000e+02  \n",
       "75%        -7.396301e+01      4.076981e+01   1.075000e+03  \n",
       "max        -6.133553e+01      4.392103e+01   3.526282e+06  "
      ]
     },
     "execution_count": 4,
     "metadata": {},
     "output_type": "execute_result"
    }
   ],
   "source": [
    "train.describe()"
   ]
  },
  {
   "cell_type": "code",
   "execution_count": 5,
   "metadata": {},
   "outputs": [
    {
     "name": "stdout",
     "output_type": "stream",
     "text": [
      "<class 'pandas.core.frame.DataFrame'>\n",
      "RangeIndex: 625134 entries, 0 to 625133\n",
      "Data columns (total 9 columns):\n",
      "id                    625134 non-null object\n",
      "vendor_id             625134 non-null int64\n",
      "pickup_datetime       625134 non-null object\n",
      "passenger_count       625134 non-null int64\n",
      "pickup_longitude      625134 non-null float64\n",
      "pickup_latitude       625134 non-null float64\n",
      "dropoff_longitude     625134 non-null float64\n",
      "dropoff_latitude      625134 non-null float64\n",
      "store_and_fwd_flag    625134 non-null object\n",
      "dtypes: float64(4), int64(2), object(3)\n",
      "memory usage: 42.9+ MB\n",
      "(625134, 9)\n"
     ]
    }
   ],
   "source": [
    "test.info()\n",
    "print(test.shape)"
   ]
  },
  {
   "cell_type": "code",
   "execution_count": 6,
   "metadata": {},
   "outputs": [
    {
     "name": "stdout",
     "output_type": "stream",
     "text": [
      "We have 1458644 training rows and 11 training columns.\n",
      "We have 625134 test rows and 9 test columns.\n"
     ]
    }
   ],
   "source": [
    "print('We have {} training rows and {} training columns.'.format(train.shape[0], train.shape[1]))\n",
    "print('We have {} test rows and {} test columns.'.format(test.shape[0], test.shape[1]))\n",
    "\n",
    "# test set has missing columns compare with training set.\n"
   ]
  },
  {
   "cell_type": "code",
   "execution_count": 7,
   "metadata": {},
   "outputs": [
    {
     "name": "stdout",
     "output_type": "stream",
     "text": [
      "1.0519909858703613\n"
     ]
    }
   ],
   "source": [
    "start_time = time.time()\n",
    "\n",
    "for df in (train, test) :\n",
    "    df['pickup_datetime'] = pd.to_datetime(df['pickup_datetime'])\n",
    "    df['year'] = df['pickup_datetime'].dt.year\n",
    "    df['month'] = df['pickup_datetime'].dt.month\n",
    "    df['day'] = df['pickup_datetime'].dt.day\n",
    "    df['hr'] = df['pickup_datetime'].dt.hour\n",
    "    df['minute'] = df['pickup_datetime'].dt.minute\n",
    "    df['store_and_fwd_flag'] = 1 * (df.store_and_fwd_flag.values == 'Y')\n",
    "    \n",
    "elapsed_time = time.time() - start_time    \n",
    "print(elapsed_time)"
   ]
  },
  {
   "cell_type": "code",
   "execution_count": 8,
   "metadata": {},
   "outputs": [
    {
     "name": "stdout",
     "output_type": "stream",
     "text": [
      "<class 'pandas.core.frame.DataFrame'>\n",
      "RangeIndex: 625134 entries, 0 to 625133\n",
      "Data columns (total 14 columns):\n",
      "id                    625134 non-null object\n",
      "vendor_id             625134 non-null int64\n",
      "pickup_datetime       625134 non-null datetime64[ns]\n",
      "passenger_count       625134 non-null int64\n",
      "pickup_longitude      625134 non-null float64\n",
      "pickup_latitude       625134 non-null float64\n",
      "dropoff_longitude     625134 non-null float64\n",
      "dropoff_latitude      625134 non-null float64\n",
      "store_and_fwd_flag    625134 non-null int64\n",
      "year                  625134 non-null int64\n",
      "month                 625134 non-null int64\n",
      "day                   625134 non-null int64\n",
      "hr                    625134 non-null int64\n",
      "minute                625134 non-null int64\n",
      "dtypes: datetime64[ns](1), float64(4), int64(8), object(1)\n",
      "memory usage: 66.8+ MB\n"
     ]
    }
   ],
   "source": [
    "test.info()"
   ]
  },
  {
   "cell_type": "code",
   "execution_count": 9,
   "metadata": {},
   "outputs": [
    {
     "data": {
      "text/plain": [
       "<matplotlib.axes._subplots.AxesSubplot at 0x11122b320>"
      ]
     },
     "execution_count": 9,
     "metadata": {},
     "output_type": "execute_result"
    },
    {
     "data": {
      "image/png": "[encoded data removed]",
      "text/plain": [
       "<Figure size 432x288 with 1 Axes>"
      ]
     },
     "metadata": {
      "needs_background": "light"
     },
     "output_type": "display_data"
    }
   ],
   "source": [
    "# histogram 모양이 한쪽으로 치우처져 있으므로 log transformation이 필요.\n",
    "plt.title('Duration Time Histogram')\n",
    "sns.distplot(train['trip_duration'])"
   ]
  },
  {
   "cell_type": "code",
   "execution_count": 10,
   "metadata": {},
   "outputs": [
    {
     "data": {
      "text/plain": [
       "<matplotlib.axes._subplots.AxesSubplot at 0x1a396763c8>"
      ]
     },
     "execution_count": 10,
     "metadata": {},
     "output_type": "execute_result"
    },
    {
     "data": {
      "image/png": "[encoded data removed]",
      "text/plain": [
       "<Figure size 432x288 with 1 Axes>"
      ]
     },
     "metadata": {
      "needs_background": "light"
     },
     "output_type": "display_data"
    }
   ],
   "source": [
    "# Using Log transformation, it looks much more similar to normal distribution\n",
    "\n",
    "train = train.assign(log_trip_duration = np.log1p(train['trip_duration']))\n",
    "plt.title('Log Transformed Duration Time Histogram')\n",
    "sns.distplot(train['log_trip_duration'])\n"
   ]
  },
  {
   "cell_type": "code",
   "execution_count": 11,
   "metadata": {},
   "outputs": [],
   "source": [
    "def get_rmse(model):\n",
    "    pred = model.predict(X_test)\n",
    "    mse = mean_squared_error(y_test , pred)\n",
    "    rmse = np.sqrt(mse)\n",
    "    print('{0} 로그 변환된 RMSE: {1}'.format(model.__class__.__name__,np.round(rmse, 3)))\n",
    "    return rmse\n",
    "\n",
    "def get_rmses(models):\n",
    "    rmses = []\n",
    "    for model in models:\n",
    "        rmse = get_rmse(model)\n",
    "        rmses.append(rmse)\n",
    "    return rmses"
   ]
  },
  {
   "cell_type": "code",
   "execution_count": 12,
   "metadata": {},
   "outputs": [],
   "source": [
    "# 뉴욕의 범위는 city_long_border = (-74.03, -73.75), city_lat_border = (40.63, 40.85)\n",
    "\n",
    "train = train[train['pickup_longitude'] <= -73.75]\n",
    "train = train[train['pickup_longitude'] >= -74.03]\n",
    "train = train[train['pickup_latitude'] <= 40.85]\n",
    "train = train[train['pickup_latitude'] >= 40.63]\n",
    "train = train[train['dropoff_longitude'] <= -73.75]\n",
    "train = train[train['dropoff_longitude'] >= -74.03]\n",
    "train = train[train['dropoff_latitude'] <= 40.85]\n",
    "train = train[train['dropoff_latitude'] >= 40.63]\n",
    "\n",
    "test = test[test['pickup_longitude'] <= -73.75]\n",
    "test = test[test['pickup_longitude'] >= -74.03]\n",
    "test = test[test['pickup_latitude'] <= 40.85]\n",
    "test = test[test['pickup_latitude'] >= 40.63]\n",
    "test = test[test['dropoff_longitude'] <= -73.75]\n",
    "test = test[test['dropoff_longitude'] >= -74.03]\n",
    "test = test[test['dropoff_latitude'] <= 40.85]\n",
    "test = test[test['dropoff_latitude'] >= 40.63]\n",
    "\n",
    "train = train.reset_index(drop=True)\n",
    "test = test.reset_index(drop=True)"
   ]
  },
  {
   "cell_type": "code",
   "execution_count": 13,
   "metadata": {},
   "outputs": [],
   "source": [
    "vendor_train = pd.get_dummies(train['vendor_id'], prefix='vi', prefix_sep='_')\n",
    "vendor_test = pd.get_dummies(test['vendor_id'], prefix='vi', prefix_sep='_')\n",
    "passenger_count_train = pd.get_dummies(train['passenger_count'], prefix='pc', prefix_sep='_')\n",
    "passenger_count_test = pd.get_dummies(test['passenger_count'], prefix='pc', prefix_sep='_')\n",
    "store_and_fwd_flag_train = pd.get_dummies(train['store_and_fwd_flag'], prefix='sf', prefix_sep='_')\n",
    "store_and_fwd_flag_test = pd.get_dummies(test['store_and_fwd_flag'], prefix='sf', prefix_sep='_')\n",
    "\n",
    "month_train = pd.get_dummies(train['month'], prefix='m', prefix_sep='_')\n",
    "month_test = pd.get_dummies(test['month'], prefix='m', prefix_sep='_')\n",
    "dom_train = pd.get_dummies(train['day'], prefix='dom', prefix_sep='_')\n",
    "dom_test = pd.get_dummies(test['day'], prefix='dom', prefix_sep='_')\n",
    "hour_train = pd.get_dummies(train['hr'], prefix='h', prefix_sep='_')\n",
    "hour_test = pd.get_dummies(test['hr'], prefix='h', prefix_sep='_')"
   ]
  },
  {
   "cell_type": "code",
   "execution_count": 14,
   "metadata": {},
   "outputs": [
    {
     "data": {
      "text/plain": [
       "[datetime.date(2016, 1, 1),\n",
       " datetime.date(2016, 1, 18),\n",
       " datetime.date(2016, 2, 12),\n",
       " datetime.date(2016, 2, 15),\n",
       " datetime.date(2016, 5, 8),\n",
       " datetime.date(2016, 5, 30),\n",
       " datetime.date(2016, 6, 19),\n",
       " datetime.date(2016, 7, 4),\n",
       " datetime.date(2016, 9, 5),\n",
       " datetime.date(2016, 10, 10),\n",
       " datetime.date(2016, 11, 11),\n",
       " datetime.date(2016, 11, 24),\n",
       " datetime.date(2016, 12, 26),\n",
       " datetime.date(2016, 7, 4),\n",
       " datetime.date(2016, 11, 8)]"
      ]
     },
     "execution_count": 14,
     "metadata": {},
     "output_type": "execute_result"
    }
   ],
   "source": [
    "# Let's think about which cases can effect to trip_duration\n",
    "# 1-1. check Holiday \n",
    "\n",
    "holiday = pd.read_csv('NYC_2016Holidays.csv')\n",
    "holiday['Date'] = holiday['Date'].apply(lambda x : x + ' 2016')\n",
    "holidays = [datetime.strptime(holiday.loc[i, 'Date'], '%B %d %Y').date() for i in range(len(holiday))]\n",
    "\n",
    "holidays\n",
    "\n"
   ]
  },
  {
   "cell_type": "code",
   "execution_count": 15,
   "metadata": {},
   "outputs": [],
   "source": [
    "time_train = pd.DataFrame(index= range(len(train)))\n",
    "time_test = pd.DataFrame(index= range(len(test)))"
   ]
  },
  {
   "cell_type": "code",
   "execution_count": 16,
   "metadata": {},
   "outputs": [],
   "source": [
    "# 1-2. check Weekend\n",
    "\n",
    "def rest(year, month, day, holidays) :\n",
    "    is_weekend = [None] * len(year)\n",
    "    is_rest = [None] * len(year)\n",
    "    i = 0\n",
    "    \n",
    "    for yy, mm, dd in zip(year, month, day) :\n",
    "        is_weekend[i] = date(yy,mm,dd).isoweekday() in (6,7)\n",
    "        # date에서 isoweekday 메소드를 이용해 요일을 반환. 6 = 토요일, 7 = 일요일\n",
    "        is_rest[i] = is_weekend[i] or date(yy,mm,dd) in holidays\n",
    "        i += 1\n",
    "        \n",
    "    return is_weekend, is_rest"
   ]
  },
  {
   "cell_type": "code",
   "execution_count": 17,
   "metadata": {},
   "outputs": [
    {
     "name": "stdout",
     "output_type": "stream",
     "text": [
      "<class 'pandas.core.frame.DataFrame'>\n",
      "RangeIndex: 616934 entries, 0 to 616933\n",
      "Data columns (total 2 columns):\n",
      "rest_day    616934 non-null bool\n",
      "weekend     616934 non-null bool\n",
      "dtypes: bool(2)\n",
      "memory usage: 1.2 MB\n"
     ]
    }
   ],
   "source": [
    "weekend, rest_day = rest(train.year, train.month, train.day, holidays)\n",
    "time_train = time_train.assign(rest_day = rest_day)\n",
    "time_train = time_train.assign(weekend = weekend)\n",
    "\n",
    "rest_day, weekend = rest(test.year, test.month, test.day, holidays)\n",
    "time_test = time_test.assign(rest_day = rest_day)\n",
    "time_test = time_test.assign(weekend = weekend)\n",
    "\n",
    "time_test.info()"
   ]
  },
  {
   "cell_type": "code",
   "execution_count": 18,
   "metadata": {},
   "outputs": [
    {
     "name": "stdout",
     "output_type": "stream",
     "text": [
      "<class 'pandas.core.frame.DataFrame'>\n",
      "RangeIndex: 1439183 entries, 0 to 1439182\n",
      "Data columns (total 19 columns):\n",
      "id                    1439183 non-null object\n",
      "vendor_id             1439183 non-null int64\n",
      "pickup_datetime       1439183 non-null datetime64[ns]\n",
      "dropoff_datetime      1439183 non-null object\n",
      "passenger_count       1439183 non-null int64\n",
      "pickup_longitude      1439183 non-null float64\n",
      "pickup_latitude       1439183 non-null float64\n",
      "dropoff_longitude     1439183 non-null float64\n",
      "dropoff_latitude      1439183 non-null float64\n",
      "store_and_fwd_flag    1439183 non-null int64\n",
      "trip_duration         1439183 non-null int64\n",
      "year                  1439183 non-null int64\n",
      "month                 1439183 non-null int64\n",
      "day                   1439183 non-null int64\n",
      "hr                    1439183 non-null int64\n",
      "minute                1439183 non-null int64\n",
      "log_trip_duration     1439183 non-null float64\n",
      "rest_day              1439183 non-null bool\n",
      "weekend               1439183 non-null bool\n",
      "dtypes: bool(2), datetime64[ns](1), float64(5), int64(9), object(2)\n",
      "memory usage: 189.4+ MB\n"
     ]
    }
   ],
   "source": [
    "train = pd.concat([train, time_train], axis = 1)\n",
    "test = pd.concat([test, time_test], axis = 1)\n",
    "\n",
    "train.info()"
   ]
  },
  {
   "cell_type": "code",
   "execution_count": 19,
   "metadata": {},
   "outputs": [
    {
     "data": {
      "text/plain": [
       "Text(0.5, 0, 'Hour')"
      ]
     },
     "execution_count": 19,
     "metadata": {},
     "output_type": "execute_result"
    },
    {
     "data": {
      "image/png": "[encoded data removed]",
      "text/plain": [
       "<Figure size 432x288 with 1 Axes>"
      ]
     },
     "metadata": {
      "needs_background": "light"
     },
     "output_type": "display_data"
    }
   ],
   "source": [
    "plt.plot(train.groupby('hr').count()[['id']], 'o-', label=train)\n",
    "plt.plot(test.groupby('hr').count()[['id']], 'o-', label=test)\n",
    "plt.ylabel('#-of-people')\n",
    "plt.xlabel('Hour')"
   ]
  },
  {
   "cell_type": "code",
   "execution_count": 20,
   "metadata": {
    "scrolled": true
   },
   "outputs": [
    {
     "data": {
      "text/plain": [
       "Text(0.5, 0, 'month')"
      ]
     },
     "execution_count": 20,
     "metadata": {},
     "output_type": "execute_result"
    },
    {
     "data": {
      "image/png": "[encoded data removed]",
      "text/plain": [
       "<Figure size 432x288 with 1 Axes>"
      ]
     },
     "metadata": {
      "needs_background": "light"
     },
     "output_type": "display_data"
    }
   ],
   "source": [
    "plt.plot(train.groupby('month').count()[['id']], 'o-', label=train)\n",
    "plt.plot(test.groupby('month').count()[['id']], 'o-', label=test)\n",
    "plt.ylabel('#-of-people')\n",
    "plt.xlabel('month')"
   ]
  },
  {
   "cell_type": "code",
   "execution_count": 21,
   "metadata": {},
   "outputs": [
    {
     "name": "stdout",
     "output_type": "stream",
     "text": [
      "<class 'pandas.core.frame.DataFrame'>\n",
      "RangeIndex: 8787 entries, 0 to 8786\n",
      "Data columns (total 14 columns):\n",
      "Time          8787 non-null datetime64[ns]\n",
      "Temp.         8787 non-null float64\n",
      "Windchill     2295 non-null float64\n",
      "Heat Index    815 non-null float64\n",
      "Humidity      8787 non-null float64\n",
      "Pressure      8556 non-null float64\n",
      "Dew Point     8787 non-null float64\n",
      "Visibility    8550 non-null float64\n",
      "Wind Dir      8787 non-null object\n",
      "Wind Speed    8787 non-null float64\n",
      "Gust Speed    8787 non-null float64\n",
      "Precip        8787 non-null float64\n",
      "Events        8787 non-null object\n",
      "Conditions    8787 non-null object\n",
      "dtypes: datetime64[ns](1), float64(10), object(3)\n",
      "memory usage: 961.2+ KB\n"
     ]
    }
   ],
   "source": [
    "# 2. Weather check\n",
    "weather = pd.read_csv('KNYC_Metars.csv')\n",
    "weather['Time'] = pd.to_datetime(weather['Time'])\n",
    "weather.info()"
   ]
  },
  {
   "cell_type": "code",
   "execution_count": 22,
   "metadata": {},
   "outputs": [],
   "source": [
    "weather['snow'] = 1 * (weather.Events == 'Snow') + 1 * (weather.Events == 'Fog\\n\\t,\\nSnow')\n",
    "weather['rain'] = 1 * (weather.Events == 'Rain') + 1 * (weather.Events == 'Fog\\n\\t,\\nRain')\n",
    "weather['year'] = weather['Time'].dt.year\n",
    "weather['month'] = weather['Time'].dt.month\n",
    "weather['day'] = weather['Time'].dt.day\n",
    "weather['hr'] = weather['Time'].dt.hour\n",
    "\n",
    "weather = weather[weather['year'] == 2016][['month', 'day', 'hr', 'Temp.', 'snow', 'rain', 'Precip', 'Visibility']]"
   ]
  },
  {
   "cell_type": "code",
   "execution_count": 23,
   "metadata": {},
   "outputs": [
    {
     "name": "stdout",
     "output_type": "stream",
     "text": [
      "<class 'pandas.core.frame.DataFrame'>\n",
      "Int64Index: 8739 entries, 22 to 8760\n",
      "Data columns (total 8 columns):\n",
      "month         8739 non-null int64\n",
      "day           8739 non-null int64\n",
      "hr            8739 non-null int64\n",
      "Temp.         8739 non-null float64\n",
      "snow          8739 non-null int64\n",
      "rain          8739 non-null int64\n",
      "Precip        8739 non-null float64\n",
      "Visibility    8739 non-null float64\n",
      "dtypes: float64(3), int64(5)\n",
      "memory usage: 614.5 KB\n"
     ]
    }
   ],
   "source": [
    "weather.fillna(weather['Visibility'].mean(), inplace=True)\n",
    "weather.info()"
   ]
  },
  {
   "cell_type": "code",
   "execution_count": 24,
   "metadata": {},
   "outputs": [],
   "source": [
    "# 날짜에 맞춰서 merge\n",
    "train = pd.merge(train, weather, on = ['month', 'day', 'hr'], how = 'left')\n",
    "test = pd.merge(test, weather, on = ['month', 'day', 'hr'], how = 'left')"
   ]
  },
  {
   "cell_type": "code",
   "execution_count": 25,
   "metadata": {},
   "outputs": [
    {
     "name": "stdout",
     "output_type": "stream",
     "text": [
      "<class 'pandas.core.frame.DataFrame'>\n",
      "Int64Index: 1439183 entries, 0 to 1439182\n",
      "Data columns (total 24 columns):\n",
      "id                    1439183 non-null object\n",
      "vendor_id             1439183 non-null int64\n",
      "pickup_datetime       1439183 non-null datetime64[ns]\n",
      "dropoff_datetime      1439183 non-null object\n",
      "passenger_count       1439183 non-null int64\n",
      "pickup_longitude      1439183 non-null float64\n",
      "pickup_latitude       1439183 non-null float64\n",
      "dropoff_longitude     1439183 non-null float64\n",
      "dropoff_latitude      1439183 non-null float64\n",
      "store_and_fwd_flag    1439183 non-null int64\n",
      "trip_duration         1439183 non-null int64\n",
      "year                  1439183 non-null int64\n",
      "month                 1439183 non-null int64\n",
      "day                   1439183 non-null int64\n",
      "hr                    1439183 non-null int64\n",
      "minute                1439183 non-null int64\n",
      "log_trip_duration     1439183 non-null float64\n",
      "rest_day              1439183 non-null bool\n",
      "weekend               1439183 non-null bool\n",
      "Temp.                 1427333 non-null float64\n",
      "snow                  1427333 non-null float64\n",
      "rain                  1427333 non-null float64\n",
      "Precip                1427333 non-null float64\n",
      "Visibility            1427333 non-null float64\n",
      "dtypes: bool(2), datetime64[ns](1), float64(10), int64(9), object(2)\n",
      "memory usage: 255.3+ MB\n"
     ]
    }
   ],
   "source": [
    "train.info()"
   ]
  },
  {
   "cell_type": "code",
   "execution_count": 26,
   "metadata": {},
   "outputs": [],
   "source": [
    "import numbers\n",
    "import math\n",
    "\n",
    "class GeoUtil:\n",
    "    \"\"\"\n",
    "    Geographical Utils\n",
    "    \"\"\"\n",
    "    @staticmethod\n",
    "    def degree2radius(degree):\n",
    "        return degree * (math.pi/180)\n",
    "    \n",
    "    @staticmethod\n",
    "    def get_harversion_distance(lat1, lng1, lat2, lng2, round_decimal_digits=5):\n",
    "    \n",
    "        lat1, lng1, lat2, lng2 = map(np.radians, (lat1, lng1, lat2, lng2))\n",
    "        AVG_EARTH_RADIUS = 6371  # in km\n",
    "        lat = lat2 - lat1\n",
    "        lng = lng2 - lng1\n",
    "        d = np.sin(lat * 0.5) ** 2 + np.cos(lat1) * np.cos(lat2) * np.sin(lng * 0.5) ** 2\n",
    "        h = 2 * AVG_EARTH_RADIUS * np.arcsin(np.sqrt(d))\n",
    "        return h\n",
    "    \n",
    "    @staticmethod\n",
    "    def get_euclidean_distance(x1, y1, x2, y2, round_decimal_digits=5):        \n",
    "        \"\"\"\n",
    "        유클리안 Formula 이용하여 (x1,y1)과 (x2,y2) 점의 거리를 반환\n",
    "        \"\"\"\n",
    "        if x1 is None or y1 is None or x2 is None or y2 is None:\n",
    "            return None\n",
    "        assert isinstance(x1, numbers.Number) and -180 <= x1 and x1 <= 180\n",
    "        assert isinstance(y1, numbers.Number) and  -90 <= y1 and y1 <=  90\n",
    "        assert isinstance(x2, numbers.Number) and -180 <= x2 and x2 <= 180\n",
    "        assert isinstance(y2, numbers.Number) and  -90 <= y2 and y2 <=  90\n",
    "\n",
    "        dLon = abs(x2-x1) # 경도 차이\n",
    "        if dLon >= 180:   # 반대편으로 갈 수 있는 경우\n",
    "            dLon -= 360   # 반대편 각을 구한다\n",
    "        dLat = y2-y1      # 위도 차이\n",
    "        return round(math.sqrt(pow(dLon,2)+pow(dLat,2)),round_decimal_digits)\n"
   ]
  },
  {
   "cell_type": "code",
   "execution_count": 27,
   "metadata": {},
   "outputs": [],
   "source": [
    "train.loc[:, 'distance_haversine'] = GeoUtil.get_harversion_distance(train['pickup_latitude'].values, train['pickup_longitude'].values, train['dropoff_latitude'].values, train['dropoff_longitude'].values)\n",
    "test.loc[:, 'distance_haversine'] = GeoUtil.get_harversion_distance(test['pickup_latitude'].values, test['pickup_longitude'].values, test['dropoff_latitude'].values, test['dropoff_longitude'].values)"
   ]
  },
  {
   "cell_type": "code",
   "execution_count": 28,
   "metadata": {},
   "outputs": [
    {
     "name": "stdout",
     "output_type": "stream",
     "text": [
      "<class 'pandas.core.frame.DataFrame'>\n",
      "Int64Index: 1439183 entries, 0 to 1439182\n",
      "Data columns (total 25 columns):\n",
      "id                    1439183 non-null object\n",
      "vendor_id             1439183 non-null int64\n",
      "pickup_datetime       1439183 non-null datetime64[ns]\n",
      "dropoff_datetime      1439183 non-null object\n",
      "passenger_count       1439183 non-null int64\n",
      "pickup_longitude      1439183 non-null float64\n",
      "pickup_latitude       1439183 non-null float64\n",
      "dropoff_longitude     1439183 non-null float64\n",
      "dropoff_latitude      1439183 non-null float64\n",
      "store_and_fwd_flag    1439183 non-null int64\n",
      "trip_duration         1439183 non-null int64\n",
      "year                  1439183 non-null int64\n",
      "month                 1439183 non-null int64\n",
      "day                   1439183 non-null int64\n",
      "hr                    1439183 non-null int64\n",
      "minute                1439183 non-null int64\n",
      "log_trip_duration     1439183 non-null float64\n",
      "rest_day              1439183 non-null bool\n",
      "weekend               1439183 non-null bool\n",
      "Temp.                 1427333 non-null float64\n",
      "snow                  1427333 non-null float64\n",
      "rain                  1427333 non-null float64\n",
      "Precip                1427333 non-null float64\n",
      "Visibility            1427333 non-null float64\n",
      "distance_haversine    1439183 non-null float64\n",
      "dtypes: bool(2), datetime64[ns](1), float64(11), int64(9), object(2)\n",
      "memory usage: 266.3+ MB\n"
     ]
    }
   ],
   "source": [
    "train.info()"
   ]
  },
  {
   "cell_type": "code",
   "execution_count": 29,
   "metadata": {},
   "outputs": [
    {
     "name": "stdout",
     "output_type": "stream",
     "text": [
      "<class 'pandas.core.frame.DataFrame'>\n",
      "Int64Index: 1439183 entries, 0 to 1439182\n",
      "Data columns (total 25 columns):\n",
      "id                    1439183 non-null object\n",
      "vendor_id             1439183 non-null int64\n",
      "pickup_datetime       1439183 non-null datetime64[ns]\n",
      "dropoff_datetime      1439183 non-null object\n",
      "passenger_count       1439183 non-null int64\n",
      "pickup_longitude      1439183 non-null float64\n",
      "pickup_latitude       1439183 non-null float64\n",
      "dropoff_longitude     1439183 non-null float64\n",
      "dropoff_latitude      1439183 non-null float64\n",
      "store_and_fwd_flag    1439183 non-null int64\n",
      "trip_duration         1439183 non-null int64\n",
      "year                  1439183 non-null int64\n",
      "month                 1439183 non-null int64\n",
      "day                   1439183 non-null int64\n",
      "hr                    1439183 non-null int64\n",
      "minute                1439183 non-null int64\n",
      "log_trip_duration     1439183 non-null float64\n",
      "rest_day              1439183 non-null bool\n",
      "weekend               1439183 non-null bool\n",
      "Temp.                 1427333 non-null float64\n",
      "snow                  1427333 non-null float64\n",
      "rain                  1427333 non-null float64\n",
      "Precip                1427333 non-null float64\n",
      "Visibility            1427333 non-null float64\n",
      "distance_haversine    1439183 non-null float64\n",
      "dtypes: bool(2), datetime64[ns](1), float64(11), int64(9), object(2)\n",
      "memory usage: 266.3+ MB\n"
     ]
    }
   ],
   "source": [
    "train.info()"
   ]
  },
  {
   "cell_type": "code",
   "execution_count": 30,
   "metadata": {},
   "outputs": [
    {
     "data": {
      "image/png": "[encoded data removed]",
      "text/plain": [
       "<Figure size 720x720 with 1 Axes>"
      ]
     },
     "metadata": {
      "needs_background": "light"
     },
     "output_type": "display_data"
    }
   ],
   "source": [
    "plt.figure(figsize=(10, 10))\n",
    "boxplot = train.boxplot(column = ['distance_haversine'])\n",
    "plt.yticks(np.arange(min(train['distance_haversine']), max(train['distance_haversine']), step = 50))\n",
    "plt.show()"
   ]
  },
  {
   "cell_type": "code",
   "execution_count": 31,
   "metadata": {},
   "outputs": [
    {
     "data": {
      "image/png": "[encoded data removed]",
      "text/plain": [
       "<Figure size 720x720 with 1 Axes>"
      ]
     },
     "metadata": {
      "needs_background": "light"
     },
     "output_type": "display_data"
    }
   ],
   "source": [
    "plt.figure(figsize=(10, 10))\n",
    "boxplot = test.boxplot(column = ['distance_haversine'])\n",
    "plt.yticks(np.arange(min(test['distance_haversine']), max(test['distance_haversine']), step = 50))\n",
    "plt.show()"
   ]
  },
  {
   "cell_type": "code",
   "execution_count": 32,
   "metadata": {},
   "outputs": [],
   "source": [
    "vendor_train = pd.get_dummies(train['vendor_id'], prefix='vi', prefix_sep='_')\n",
    "vendor_test = pd.get_dummies(test['vendor_id'], prefix='vi', prefix_sep='_')\n",
    "passenger_count_train = pd.get_dummies(train['passenger_count'], prefix='pc', prefix_sep='_')\n",
    "passenger_count_test = pd.get_dummies(test['passenger_count'], prefix='pc', prefix_sep='_')\n",
    "store_and_fwd_flag_train = pd.get_dummies(train['store_and_fwd_flag'], prefix='sf', prefix_sep='_')\n",
    "store_and_fwd_flag_test = pd.get_dummies(test['store_and_fwd_flag'], prefix='sf', prefix_sep='_')\n",
    "\n",
    "month_train = pd.get_dummies(train['month'], prefix='m', prefix_sep='_')\n",
    "month_test = pd.get_dummies(test['month'], prefix='m', prefix_sep='_')\n",
    "dom_train = pd.get_dummies(train['day'], prefix='dom', prefix_sep='_')\n",
    "dom_test = pd.get_dummies(test['day'], prefix='dom', prefix_sep='_')\n",
    "hour_train = pd.get_dummies(train['hr'], prefix='h', prefix_sep='_')\n",
    "hour_test = pd.get_dummies(test['hr'], prefix='h', prefix_sep='_')"
   ]
  },
  {
   "cell_type": "code",
   "execution_count": 33,
   "metadata": {},
   "outputs": [
    {
     "name": "stdout",
     "output_type": "stream",
     "text": [
      "<class 'pandas.core.frame.DataFrame'>\n",
      "Int64Index: 1439183 entries, 0 to 1439182\n",
      "Data columns (total 25 columns):\n",
      "id                    1439183 non-null object\n",
      "vendor_id             1439183 non-null int64\n",
      "pickup_datetime       1439183 non-null datetime64[ns]\n",
      "dropoff_datetime      1439183 non-null object\n",
      "passenger_count       1439183 non-null int64\n",
      "pickup_longitude      1439183 non-null float64\n",
      "pickup_latitude       1439183 non-null float64\n",
      "dropoff_longitude     1439183 non-null float64\n",
      "dropoff_latitude      1439183 non-null float64\n",
      "store_and_fwd_flag    1439183 non-null int64\n",
      "trip_duration         1439183 non-null int64\n",
      "year                  1439183 non-null int64\n",
      "month                 1439183 non-null int64\n",
      "day                   1439183 non-null int64\n",
      "hr                    1439183 non-null int64\n",
      "minute                1439183 non-null int64\n",
      "log_trip_duration     1439183 non-null float64\n",
      "rest_day              1439183 non-null bool\n",
      "weekend               1439183 non-null bool\n",
      "Temp.                 1427333 non-null float64\n",
      "snow                  1427333 non-null float64\n",
      "rain                  1427333 non-null float64\n",
      "Precip                1427333 non-null float64\n",
      "Visibility            1427333 non-null float64\n",
      "distance_haversine    1439183 non-null float64\n",
      "dtypes: bool(2), datetime64[ns](1), float64(11), int64(9), object(2)\n",
      "memory usage: 266.3+ MB\n"
     ]
    }
   ],
   "source": [
    "train.info()"
   ]
  },
  {
   "cell_type": "code",
   "execution_count": 34,
   "metadata": {},
   "outputs": [],
   "source": [
    "train.drop(['id', 'pickup_datetime', 'dropoff_datetime', 'trip_duration'], axis = 1, inplace=True)"
   ]
  },
  {
   "cell_type": "code",
   "execution_count": 35,
   "metadata": {},
   "outputs": [],
   "source": [
    "train.drop(['pickup_longitude', 'pickup_latitude', 'dropoff_longitude', \n",
    "            'dropoff_latitude', 'vendor_id', 'store_and_fwd_flag', 'passenger_count',\n",
    "           'hr', 'month', 'day'], axis = 1, inplace=True)"
   ]
  },
  {
   "cell_type": "code",
   "execution_count": 36,
   "metadata": {},
   "outputs": [
    {
     "name": "stdout",
     "output_type": "stream",
     "text": [
      "<class 'pandas.core.frame.DataFrame'>\n",
      "Int64Index: 1439183 entries, 0 to 1439182\n",
      "Data columns (total 11 columns):\n",
      "year                  1439183 non-null int64\n",
      "minute                1439183 non-null int64\n",
      "log_trip_duration     1439183 non-null float64\n",
      "rest_day              1439183 non-null bool\n",
      "weekend               1439183 non-null bool\n",
      "Temp.                 1427333 non-null float64\n",
      "snow                  1427333 non-null float64\n",
      "rain                  1427333 non-null float64\n",
      "Precip                1427333 non-null float64\n",
      "Visibility            1427333 non-null float64\n",
      "distance_haversine    1439183 non-null float64\n",
      "dtypes: bool(2), float64(7), int64(2)\n",
      "memory usage: 112.5 MB\n"
     ]
    }
   ],
   "source": [
    "train.info()"
   ]
  },
  {
   "cell_type": "code",
   "execution_count": 37,
   "metadata": {},
   "outputs": [
    {
     "name": "stdout",
     "output_type": "stream",
     "text": [
      "<class 'pandas.core.frame.DataFrame'>\n",
      "Int64Index: 1439183 entries, 0 to 1439182\n",
      "Data columns (total 83 columns):\n",
      "year                  1439183 non-null int64\n",
      "minute                1439183 non-null int64\n",
      "log_trip_duration     1439183 non-null float64\n",
      "rest_day              1439183 non-null bool\n",
      "weekend               1439183 non-null bool\n",
      "Temp.                 1427333 non-null float64\n",
      "snow                  1427333 non-null float64\n",
      "rain                  1427333 non-null float64\n",
      "Precip                1427333 non-null float64\n",
      "Visibility            1427333 non-null float64\n",
      "distance_haversine    1439183 non-null float64\n",
      "vi_1                  1439183 non-null uint8\n",
      "vi_2                  1439183 non-null uint8\n",
      "pc_0                  1439183 non-null uint8\n",
      "pc_1                  1439183 non-null uint8\n",
      "pc_2                  1439183 non-null uint8\n",
      "pc_3                  1439183 non-null uint8\n",
      "pc_4                  1439183 non-null uint8\n",
      "pc_5                  1439183 non-null uint8\n",
      "pc_6                  1439183 non-null uint8\n",
      "sf_0                  1439183 non-null uint8\n",
      "sf_1                  1439183 non-null uint8\n",
      "m_1                   1439183 non-null uint8\n",
      "m_2                   1439183 non-null uint8\n",
      "m_3                   1439183 non-null uint8\n",
      "m_4                   1439183 non-null uint8\n",
      "m_5                   1439183 non-null uint8\n",
      "m_6                   1439183 non-null uint8\n",
      "dom_1                 1439183 non-null uint8\n",
      "dom_2                 1439183 non-null uint8\n",
      "dom_3                 1439183 non-null uint8\n",
      "dom_4                 1439183 non-null uint8\n",
      "dom_5                 1439183 non-null uint8\n",
      "dom_6                 1439183 non-null uint8\n",
      "dom_7                 1439183 non-null uint8\n",
      "dom_8                 1439183 non-null uint8\n",
      "dom_9                 1439183 non-null uint8\n",
      "dom_10                1439183 non-null uint8\n",
      "dom_11                1439183 non-null uint8\n",
      "dom_12                1439183 non-null uint8\n",
      "dom_13                1439183 non-null uint8\n",
      "dom_14                1439183 non-null uint8\n",
      "dom_15                1439183 non-null uint8\n",
      "dom_16                1439183 non-null uint8\n",
      "dom_17                1439183 non-null uint8\n",
      "dom_18                1439183 non-null uint8\n",
      "dom_19                1439183 non-null uint8\n",
      "dom_20                1439183 non-null uint8\n",
      "dom_21                1439183 non-null uint8\n",
      "dom_22                1439183 non-null uint8\n",
      "dom_23                1439183 non-null uint8\n",
      "dom_24                1439183 non-null uint8\n",
      "dom_25                1439183 non-null uint8\n",
      "dom_26                1439183 non-null uint8\n",
      "dom_27                1439183 non-null uint8\n",
      "dom_28                1439183 non-null uint8\n",
      "dom_29                1439183 non-null uint8\n",
      "dom_30                1439183 non-null uint8\n",
      "dom_31                1439183 non-null uint8\n",
      "h_0                   1439183 non-null uint8\n",
      "h_1                   1439183 non-null uint8\n",
      "h_2                   1439183 non-null uint8\n",
      "h_3                   1439183 non-null uint8\n",
      "h_4                   1439183 non-null uint8\n",
      "h_5                   1439183 non-null uint8\n",
      "h_6                   1439183 non-null uint8\n",
      "h_7                   1439183 non-null uint8\n",
      "h_8                   1439183 non-null uint8\n",
      "h_9                   1439183 non-null uint8\n",
      "h_10                  1439183 non-null uint8\n",
      "h_11                  1439183 non-null uint8\n",
      "h_12                  1439183 non-null uint8\n",
      "h_13                  1439183 non-null uint8\n",
      "h_14                  1439183 non-null uint8\n",
      "h_15                  1439183 non-null uint8\n",
      "h_16                  1439183 non-null uint8\n",
      "h_17                  1439183 non-null uint8\n",
      "h_18                  1439183 non-null uint8\n",
      "h_19                  1439183 non-null uint8\n",
      "h_20                  1439183 non-null uint8\n",
      "h_21                  1439183 non-null uint8\n",
      "h_22                  1439183 non-null uint8\n",
      "h_23                  1439183 non-null uint8\n",
      "dtypes: bool(2), float64(7), int64(2), uint8(72)\n",
      "memory usage: 211.4 MB\n"
     ]
    }
   ],
   "source": [
    "train = pd.concat([train, vendor_train, passenger_count_train, store_and_fwd_flag_train,\n",
    "month_train, dom_train, hour_train], axis = 1)\n",
    "train.info()\n",
    "               "
   ]
  },
  {
   "cell_type": "code",
   "execution_count": 38,
   "metadata": {},
   "outputs": [
    {
     "name": "stdout",
     "output_type": "stream",
     "text": [
      "(1439183,) (1439183, 82)\n"
     ]
    }
   ],
   "source": [
    "y_target = train['log_trip_duration']\n",
    "X_features = train.drop('log_trip_duration',axis=1, inplace=False)\n",
    "print(y_target.shape, X_features.shape)\n",
    "X_train, X_test, y_train, y_test = train_test_split(X_features, y_target, test_size=0.2, random_state=156)"
   ]
  },
  {
   "cell_type": "code",
   "execution_count": 39,
   "metadata": {},
   "outputs": [
    {
     "name": "stdout",
     "output_type": "stream",
     "text": [
      "<class 'pandas.core.frame.DataFrame'>\n",
      "Int64Index: 1439183 entries, 0 to 1439182\n",
      "Data columns (total 83 columns):\n",
      "year                  1439183 non-null int64\n",
      "minute                1439183 non-null int64\n",
      "log_trip_duration     1439183 non-null float64\n",
      "rest_day              1439183 non-null bool\n",
      "weekend               1439183 non-null bool\n",
      "Temp.                 1427333 non-null float64\n",
      "snow                  1427333 non-null float64\n",
      "rain                  1427333 non-null float64\n",
      "Precip                1427333 non-null float64\n",
      "Visibility            1427333 non-null float64\n",
      "distance_haversine    1439183 non-null float64\n",
      "vi_1                  1439183 non-null uint8\n",
      "vi_2                  1439183 non-null uint8\n",
      "pc_0                  1439183 non-null uint8\n",
      "pc_1                  1439183 non-null uint8\n",
      "pc_2                  1439183 non-null uint8\n",
      "pc_3                  1439183 non-null uint8\n",
      "pc_4                  1439183 non-null uint8\n",
      "pc_5                  1439183 non-null uint8\n",
      "pc_6                  1439183 non-null uint8\n",
      "sf_0                  1439183 non-null uint8\n",
      "sf_1                  1439183 non-null uint8\n",
      "m_1                   1439183 non-null uint8\n",
      "m_2                   1439183 non-null uint8\n",
      "m_3                   1439183 non-null uint8\n",
      "m_4                   1439183 non-null uint8\n",
      "m_5                   1439183 non-null uint8\n",
      "m_6                   1439183 non-null uint8\n",
      "dom_1                 1439183 non-null uint8\n",
      "dom_2                 1439183 non-null uint8\n",
      "dom_3                 1439183 non-null uint8\n",
      "dom_4                 1439183 non-null uint8\n",
      "dom_5                 1439183 non-null uint8\n",
      "dom_6                 1439183 non-null uint8\n",
      "dom_7                 1439183 non-null uint8\n",
      "dom_8                 1439183 non-null uint8\n",
      "dom_9                 1439183 non-null uint8\n",
      "dom_10                1439183 non-null uint8\n",
      "dom_11                1439183 non-null uint8\n",
      "dom_12                1439183 non-null uint8\n",
      "dom_13                1439183 non-null uint8\n",
      "dom_14                1439183 non-null uint8\n",
      "dom_15                1439183 non-null uint8\n",
      "dom_16                1439183 non-null uint8\n",
      "dom_17                1439183 non-null uint8\n",
      "dom_18                1439183 non-null uint8\n",
      "dom_19                1439183 non-null uint8\n",
      "dom_20                1439183 non-null uint8\n",
      "dom_21                1439183 non-null uint8\n",
      "dom_22                1439183 non-null uint8\n",
      "dom_23                1439183 non-null uint8\n",
      "dom_24                1439183 non-null uint8\n",
      "dom_25                1439183 non-null uint8\n",
      "dom_26                1439183 non-null uint8\n",
      "dom_27                1439183 non-null uint8\n",
      "dom_28                1439183 non-null uint8\n",
      "dom_29                1439183 non-null uint8\n",
      "dom_30                1439183 non-null uint8\n",
      "dom_31                1439183 non-null uint8\n",
      "h_0                   1439183 non-null uint8\n",
      "h_1                   1439183 non-null uint8\n",
      "h_2                   1439183 non-null uint8\n",
      "h_3                   1439183 non-null uint8\n",
      "h_4                   1439183 non-null uint8\n",
      "h_5                   1439183 non-null uint8\n",
      "h_6                   1439183 non-null uint8\n",
      "h_7                   1439183 non-null uint8\n",
      "h_8                   1439183 non-null uint8\n",
      "h_9                   1439183 non-null uint8\n",
      "h_10                  1439183 non-null uint8\n",
      "h_11                  1439183 non-null uint8\n",
      "h_12                  1439183 non-null uint8\n",
      "h_13                  1439183 non-null uint8\n",
      "h_14                  1439183 non-null uint8\n",
      "h_15                  1439183 non-null uint8\n",
      "h_16                  1439183 non-null uint8\n",
      "h_17                  1439183 non-null uint8\n",
      "h_18                  1439183 non-null uint8\n",
      "h_19                  1439183 non-null uint8\n",
      "h_20                  1439183 non-null uint8\n",
      "h_21                  1439183 non-null uint8\n",
      "h_22                  1439183 non-null uint8\n",
      "h_23                  1439183 non-null uint8\n",
      "dtypes: bool(2), float64(7), int64(2), uint8(72)\n",
      "memory usage: 211.4 MB\n"
     ]
    }
   ],
   "source": [
    "train.info()"
   ]
  },
  {
   "cell_type": "code",
   "execution_count": null,
   "metadata": {},
   "outputs": [
    {
     "name": "stderr",
     "output_type": "stream",
     "text": [
      "//anaconda3/lib/python3.7/site-packages/sklearn/model_selection/_split.py:1978: FutureWarning: The default value of cv will change from 3 to 5 in version 0.22. Specify it explicitly to silence this warning.\n",
      "  warnings.warn(CV_WARNING, FutureWarning)\n"
     ]
    }
   ],
   "source": [
    "from sklearn.model_selection import GridSearchCV\n",
    "\n",
    "# 하이퍼 파라미터 테스트의 수행 속도를 향상시키기 위해 n_estimators를 100으로 감소\n",
    "xgb_clf = xgb.XGBClassifier(n_estimators=200)\n",
    "\n",
    "params = {'eta' : [0.05, 0.1, 0.15, 0.2, 0.5],\n",
    "          'num_leaves': [32, 64 ],\n",
    "          'colsample_by_tree' : [1, 0.9, 0.8, 0.7],\n",
    "          'max_depth':[4, 5, 6]}\n",
    "\n",
    "\n",
    "# 하이퍼 파라미터 테스트의 수행속도를 향상 시키기 위해 cv를 지정하지 않습니다. \n",
    "gridcv = GridSearchCV(xgb_clf, param_grid=params, scoring='accuracy')\n",
    "gridcv.fit(X_train, y_train)\n",
    "\n",
    "print('GridSearchCV 최적 파라미터:', gridcv.best_params_)\n",
    "lgbm_roc_score = roc_auc_score(y_test, gridcv.predict_proba(X_test)[:,1], average='macro')\n",
    "print('ROC AUC: {0:.4f}'.format(lgbm_roc_score))\n"
   ]
  },
  {
   "cell_type": "code",
   "execution_count": 41,
   "metadata": {
    "scrolled": true
   },
   "outputs": [
    {
     "name": "stderr",
     "output_type": "stream",
     "text": [
      "//anaconda3/lib/python3.7/site-packages/xgboost/core.py:587: FutureWarning: Series.base is deprecated and will be removed in a future version\n",
      "  if getattr(data, 'base', None) is not None and \\\n"
     ]
    },
    {
     "name": "stdout",
     "output_type": "stream",
     "text": [
      "[0]\ttrain-rmse:3.03473\teval-rmse:3.03358\n",
      "Multiple eval metrics have been passed: 'eval-rmse' will be used for early stopping.\n",
      "\n",
      "Will train until eval-rmse hasn't improved in 2 rounds.\n",
      "[1]\ttrain-rmse:1.57509\teval-rmse:1.57412\n",
      "[2]\ttrain-rmse:0.89203\teval-rmse:0.89114\n",
      "[3]\ttrain-rmse:0.60989\teval-rmse:0.609453\n",
      "[4]\ttrain-rmse:0.513879\teval-rmse:0.513868\n",
      "[5]\ttrain-rmse:0.483391\teval-rmse:0.483833\n",
      "[6]\ttrain-rmse:0.474772\teval-rmse:0.475369\n",
      "[7]\ttrain-rmse:0.470411\teval-rmse:0.471105\n",
      "[8]\ttrain-rmse:0.468071\teval-rmse:0.469001\n",
      "[9]\ttrain-rmse:0.466762\teval-rmse:0.467868\n",
      "Modeling RMSLE 0.46787\n"
     ]
    }
   ],
   "source": [
    "dtrain = xgb.DMatrix(data=X_train, label = y_train)\n",
    "dtest = xgb.DMatrix(data=X_test, label=y_test)\n",
    "\n",
    "wlist = [(dtrain,'train'),(dtest,'eval')]\n",
    "\n",
    "xgb_pars = {'min_child_weight': 1, 'eta': 0.5, 'colsample_bytree': 0.9, \n",
    "            'max_depth': 6,\n",
    "'subsample': 0.9, 'lambda': 1., 'nthread': -1, 'booster' : 'gbtree', 'silent': 1,\n",
    "'eval_metric': 'rmse', 'objective': 'reg:linear'}\n",
    "model = xgb.train(xgb_pars, dtrain, 10, wlist, early_stopping_rounds=2,\n",
    "      maximize=False, verbose_eval=1)\n",
    "\n",
    "print('Modeling RMSLE %.5f' % model.best_score)\n"
   ]
  },
  {
   "cell_type": "code",
   "execution_count": 42,
   "metadata": {},
   "outputs": [
    {
     "data": {
      "text/plain": [
       "<matplotlib.axes._subplots.AxesSubplot at 0x1a4245a9b0>"
      ]
     },
     "execution_count": 42,
     "metadata": {},
     "output_type": "execute_result"
    },
    {
     "data": {
      "image/png": "[encoded data removed]",
      "text/plain": [
       "<Figure size 432x288 with 1 Axes>"
      ]
     },
     "metadata": {
      "needs_background": "light"
     },
     "output_type": "display_data"
    }
   ],
   "source": [
    "xgb.plot_importance(model, max_num_features=28, height=0.5)"
   ]
  },
  {
   "cell_type": "code",
   "execution_count": 43,
   "metadata": {},
   "outputs": [],
   "source": [
    "def get_rmse(model):\n",
    "    pred = model.predict(X_test)\n",
    "    mse = mean_squared_error(y_test , pred)\n",
    "    rmse = np.sqrt(mse)\n",
    "    print('{0} 로그 변환된 RMSE: {1}'.format(model.__class__.__name__,np.round(rmse, 3)))\n",
    "    return rmse\n",
    "\n",
    "def get_rmses(models):\n",
    "    rmses = [ ]\n",
    "    for model in models:\n",
    "        rmse = get_rmse(model)\n",
    "        rmses.append(rmse)\n",
    "    return rmses"
   ]
  },
  {
   "cell_type": "code",
   "execution_count": 44,
   "metadata": {},
   "outputs": [],
   "source": [
    "train['Temp.'].fillna(train['Temp.'].mean(), inplace=True)\n",
    "train['snow'].fillna(0, inplace=True)\n",
    "train['rain'].fillna(0, inplace=True)\n",
    "train['Precip'].fillna(train['Precip'].mean(), inplace=True)\n",
    "train['Visibility'].fillna(train['Visibility'].mean(), inplace=True)"
   ]
  },
  {
   "cell_type": "code",
   "execution_count": 45,
   "metadata": {},
   "outputs": [
    {
     "name": "stdout",
     "output_type": "stream",
     "text": [
      "(1439183,) (1439183, 83)\n"
     ]
    }
   ],
   "source": [
    "train = train.reset_index()\n",
    "y_target = train['log_trip_duration']\n",
    "X_features = train.drop('log_trip_duration',axis=1, inplace=False)\n",
    "print(y_target.shape, X_features.shape)\n",
    "X_train, X_test, y_train, y_test = train_test_split(X_features, y_target, test_size=0.2, random_state=156)\n"
   ]
  },
  {
   "cell_type": "code",
   "execution_count": 46,
   "metadata": {},
   "outputs": [
    {
     "name": "stdout",
     "output_type": "stream",
     "text": [
      "LinearRegression 로그 변환된 RMSE: 0.6\n",
      "Ridge 로그 변환된 RMSE: 0.6\n",
      "Lasso 로그 변환된 RMSE: 0.674\n"
     ]
    },
    {
     "data": {
      "text/plain": [
       "[0.5999732273983059, 0.5999730530613556, 0.6735863041213093]"
      ]
     },
     "execution_count": 46,
     "metadata": {},
     "output_type": "execute_result"
    }
   ],
   "source": [
    "\n",
    "# LinearRegression, Ridge, Lasso 학습, 예측, 평가\n",
    "lr_reg = LinearRegression()\n",
    "lr_reg.fit(X_train, y_train)\n",
    "\n",
    "ridge_reg = Ridge()\n",
    "ridge_reg.fit(X_train, y_train)\n",
    "\n",
    "lasso_reg = Lasso()\n",
    "lasso_reg.fit(X_train, y_train)\n",
    "\n",
    "models = [lr_reg, ridge_reg, lasso_reg]\n",
    "get_rmses(models)"
   ]
  },
  {
   "cell_type": "code",
   "execution_count": 47,
   "metadata": {},
   "outputs": [],
   "source": [
    "def get_top_bottom_coef(model):\n",
    "    # coef_ 속성을 기반으로 Series 객체를 생성. index는 컬럼명. \n",
    "    coef = pd.Series(model.coef_, index=X_features.columns)\n",
    "    \n",
    "    # + 상위 10개 , - 하위 10개 coefficient 추출하여 반환.\n",
    "    coef_high = coef.sort_values(ascending=False).head(10)\n",
    "    coef_low = coef.sort_values(ascending=False).tail(10)\n",
    "    return coef_high, coef_low"
   ]
  },
  {
   "cell_type": "code",
   "execution_count": 48,
   "metadata": {},
   "outputs": [
    {
     "data": {
      "image/png": "[encoded data removed]",
      "text/plain": [
       "<Figure size 1728x720 with 3 Axes>"
      ]
     },
     "metadata": {
      "needs_background": "light"
     },
     "output_type": "display_data"
    }
   ],
   "source": [
    "def visualize_coefficient(models):\n",
    "    # 3개 회귀 모델의 시각화를 위해 3개의 컬럼을 가지는 subplot 생성\n",
    "    fig, axs = plt.subplots(figsize=(24,10),nrows=1, ncols=3)\n",
    "    fig.tight_layout() \n",
    "    # 입력인자로 받은 list객체인 models에서 차례로 model을 추출하여 회귀 계수 시각화. \n",
    "    for i_num, model in enumerate(models):\n",
    "        # 상위 10개, 하위 10개 회귀 계수를 구하고, 이를 판다스 concat으로 결합. \n",
    "        coef_high, coef_low = get_top_bottom_coef(model)\n",
    "        coef_concat = pd.concat( [coef_high , coef_low] )\n",
    "        # 순차적으로 ax subplot에 barchar로 표현. 한 화면에 표현하기 위해 tick label 위치와 font 크기 조정. \n",
    "        axs[i_num].set_title(model.__class__.__name__+' Coeffiecents', size=25)\n",
    "        axs[i_num].tick_params(axis=\"y\",direction=\"in\", pad=-120)\n",
    "        for label in (axs[i_num].get_xticklabels() + axs[i_num].get_yticklabels()):\n",
    "            label.set_fontsize(22)\n",
    "        sns.barplot(x=coef_concat.values, y=coef_concat.index , ax=axs[i_num])\n",
    "\n",
    "# 앞 예제에서 학습한 lr_reg, ridge_reg, lasso_reg 모델의 회귀 계수 시각화.    \n",
    "models = [lr_reg, ridge_reg, lasso_reg]\n",
    "visualize_coefficient(models)\n",
    "\n"
   ]
  },
  {
   "cell_type": "code",
   "execution_count": 49,
   "metadata": {
    "scrolled": true
   },
   "outputs": [
    {
     "ename": "AttributeError",
     "evalue": "'DataFrame' object has no attribute 'pickup_latitude'",
     "output_type": "error",
     "traceback": [
      "\u001b[0;31m---------------------------------------------------------------------------\u001b[0m",
      "\u001b[0;31mAttributeError\u001b[0m                            Traceback (most recent call last)",
      "\u001b[0;32m<ipython-input-49-a552cbd1be93>\u001b[0m in \u001b[0;36m<module>\u001b[0;34m\u001b[0m\n\u001b[1;32m      2\u001b[0m \u001b[0;34m\u001b[0m\u001b[0m\n\u001b[1;32m      3\u001b[0m \u001b[0;31m# 가장 큰 값을 가지는 Distance의 경우 pickup 위치가 케나다로 등장.\u001b[0m\u001b[0;34m\u001b[0m\u001b[0;34m\u001b[0m\u001b[0;34m\u001b[0m\u001b[0m\n\u001b[0;32m----> 4\u001b[0;31m \u001b[0mmap_osm\u001b[0m \u001b[0;34m=\u001b[0m \u001b[0mfolium\u001b[0m\u001b[0;34m.\u001b[0m\u001b[0mMap\u001b[0m\u001b[0;34m(\u001b[0m\u001b[0mlocation\u001b[0m\u001b[0;34m=\u001b[0m\u001b[0;34m[\u001b[0m\u001b[0mtrain\u001b[0m\u001b[0;34m.\u001b[0m\u001b[0mpickup_latitude\u001b[0m\u001b[0;34m[\u001b[0m\u001b[0;36m184925\u001b[0m\u001b[0;34m]\u001b[0m\u001b[0;34m,\u001b[0m \u001b[0mtrain\u001b[0m\u001b[0;34m.\u001b[0m\u001b[0mpickup_longitude\u001b[0m\u001b[0;34m[\u001b[0m\u001b[0;36m184925\u001b[0m\u001b[0;34m]\u001b[0m\u001b[0;34m]\u001b[0m\u001b[0;34m)\u001b[0m\u001b[0;34m\u001b[0m\u001b[0;34m\u001b[0m\u001b[0m\n\u001b[0m\u001b[1;32m      5\u001b[0m \u001b[0mfolium\u001b[0m\u001b[0;34m.\u001b[0m\u001b[0mMarker\u001b[0m\u001b[0;34m(\u001b[0m\u001b[0;34m[\u001b[0m\u001b[0mtrain\u001b[0m\u001b[0;34m.\u001b[0m\u001b[0mpickup_latitude\u001b[0m\u001b[0;34m[\u001b[0m\u001b[0;36m184925\u001b[0m\u001b[0;34m]\u001b[0m\u001b[0;34m,\u001b[0m \u001b[0mtrain\u001b[0m\u001b[0;34m.\u001b[0m\u001b[0mpickup_longitude\u001b[0m\u001b[0;34m[\u001b[0m\u001b[0;36m184925\u001b[0m\u001b[0;34m]\u001b[0m\u001b[0;34m]\u001b[0m\u001b[0;34m,\u001b[0m \u001b[0mpopup\u001b[0m\u001b[0;34m=\u001b[0m\u001b[0;34m'Start'\u001b[0m\u001b[0;34m)\u001b[0m\u001b[0;34m.\u001b[0m\u001b[0madd_to\u001b[0m\u001b[0;34m(\u001b[0m\u001b[0mmap_osm\u001b[0m\u001b[0;34m)\u001b[0m\u001b[0;34m\u001b[0m\u001b[0;34m\u001b[0m\u001b[0m\n\u001b[1;32m      6\u001b[0m \u001b[0mfolium\u001b[0m\u001b[0;34m.\u001b[0m\u001b[0mMarker\u001b[0m\u001b[0;34m(\u001b[0m\u001b[0;34m[\u001b[0m\u001b[0mtrain\u001b[0m\u001b[0;34m.\u001b[0m\u001b[0mdropoff_latitude\u001b[0m\u001b[0;34m[\u001b[0m\u001b[0;36m184925\u001b[0m\u001b[0;34m]\u001b[0m\u001b[0;34m,\u001b[0m \u001b[0mtrain\u001b[0m\u001b[0;34m.\u001b[0m\u001b[0mdropoff_longitude\u001b[0m\u001b[0;34m[\u001b[0m\u001b[0;36m184925\u001b[0m\u001b[0;34m]\u001b[0m\u001b[0;34m]\u001b[0m\u001b[0;34m,\u001b[0m \u001b[0mpopup\u001b[0m\u001b[0;34m=\u001b[0m\u001b[0;34m'End'\u001b[0m\u001b[0;34m)\u001b[0m\u001b[0;34m.\u001b[0m\u001b[0madd_to\u001b[0m\u001b[0;34m(\u001b[0m\u001b[0mmap_osm\u001b[0m\u001b[0;34m)\u001b[0m\u001b[0;34m\u001b[0m\u001b[0;34m\u001b[0m\u001b[0m\n",
      "\u001b[0;32m//anaconda3/lib/python3.7/site-packages/pandas/core/generic.py\u001b[0m in \u001b[0;36m__getattr__\u001b[0;34m(self, name)\u001b[0m\n\u001b[1;32m   5065\u001b[0m             \u001b[0;32mif\u001b[0m \u001b[0mself\u001b[0m\u001b[0;34m.\u001b[0m\u001b[0m_info_axis\u001b[0m\u001b[0;34m.\u001b[0m\u001b[0m_can_hold_identifiers_and_holds_name\u001b[0m\u001b[0;34m(\u001b[0m\u001b[0mname\u001b[0m\u001b[0;34m)\u001b[0m\u001b[0;34m:\u001b[0m\u001b[0;34m\u001b[0m\u001b[0;34m\u001b[0m\u001b[0m\n\u001b[1;32m   5066\u001b[0m                 \u001b[0;32mreturn\u001b[0m \u001b[0mself\u001b[0m\u001b[0;34m[\u001b[0m\u001b[0mname\u001b[0m\u001b[0;34m]\u001b[0m\u001b[0;34m\u001b[0m\u001b[0;34m\u001b[0m\u001b[0m\n\u001b[0;32m-> 5067\u001b[0;31m             \u001b[0;32mreturn\u001b[0m \u001b[0mobject\u001b[0m\u001b[0;34m.\u001b[0m\u001b[0m__getattribute__\u001b[0m\u001b[0;34m(\u001b[0m\u001b[0mself\u001b[0m\u001b[0;34m,\u001b[0m \u001b[0mname\u001b[0m\u001b[0;34m)\u001b[0m\u001b[0;34m\u001b[0m\u001b[0;34m\u001b[0m\u001b[0m\n\u001b[0m\u001b[1;32m   5068\u001b[0m \u001b[0;34m\u001b[0m\u001b[0m\n\u001b[1;32m   5069\u001b[0m     \u001b[0;32mdef\u001b[0m \u001b[0m__setattr__\u001b[0m\u001b[0;34m(\u001b[0m\u001b[0mself\u001b[0m\u001b[0;34m,\u001b[0m \u001b[0mname\u001b[0m\u001b[0;34m,\u001b[0m \u001b[0mvalue\u001b[0m\u001b[0;34m)\u001b[0m\u001b[0;34m:\u001b[0m\u001b[0;34m\u001b[0m\u001b[0;34m\u001b[0m\u001b[0m\n",
      "\u001b[0;31mAttributeError\u001b[0m: 'DataFrame' object has no attribute 'pickup_latitude'"
     ]
    }
   ],
   "source": [
    "import folium\n",
    "\n",
    "# 가장 큰 값을 가지는 Distance의 경우 pickup 위치가 케나다로 등장. \n",
    "map_osm = folium.Map(location=[train.pickup_latitude[184925], train.pickup_longitude[184925]])\n",
    "folium.Marker([train.pickup_latitude[184925], train.pickup_longitude[184925]], popup='Start').add_to(map_osm)\n",
    "folium.Marker([train.dropoff_latitude[184925], train.dropoff_longitude[184925]], popup='End').add_to(map_osm)\n",
    "\n",
    "# distance_df.loc[distance_df['Distance'].idxmax()]\n",
    "map_osm"
   ]
  },
  {
   "cell_type": "code",
   "execution_count": null,
   "metadata": {},
   "outputs": [],
   "source": []
  },
  {
   "cell_type": "code",
   "execution_count": null,
   "metadata": {},
   "outputs": [],
   "source": []
  },
  {
   "cell_type": "code",
   "execution_count": null,
   "metadata": {},
   "outputs": [],
   "source": []
  }
 ],
 "metadata": {
  "kernelspec": {
   "display_name": "Python 3",
   "language": "python",
   "name": "python3"
  },
  "language_info": {
   "codemirror_mode": {
    "name": "ipython",
    "version": 3
   },
   "file_extension": ".py",
   "mimetype": "text/x-python",
   "name": "python",
   "nbconvert_exporter": "python",
   "pygments_lexer": "ipython3",
   "version": "3.7.3"
  }
 },
 "nbformat": 4,
 "nbformat_minor": 2
}
